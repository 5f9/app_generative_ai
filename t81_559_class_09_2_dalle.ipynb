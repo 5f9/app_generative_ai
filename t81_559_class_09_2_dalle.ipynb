{
 "cells": [
  {
   "cell_type": "markdown",
   "metadata": {},
   "source": [
    "<a href=\"https://colab.research.google.com/github/jeffheaton/app_generative_ai/blob/main/t81_559_class_08_1_kaggle_intro.ipynb\" target=\"_parent\"><img src=\"https://colab.research.google.com/assets/colab-badge.svg\" alt=\"Open In Colab\"/></a>"
   ]
  },
  {
   "cell_type": "markdown",
   "metadata": {},
   "source": [
    "# T81-559: Applications of Generative Artificial Intelligence\n",
    "**Module 9: MultiModal and Text to Image Models**\n",
    "* Instructor: [Jeff Heaton](https://sites.wustl.edu/jeffheaton/), McKelvey School of Engineering, [Washington University in St. Louis](https://engineering.wustl.edu/Programs/Pages/default.aspx)\n",
    "* For more information visit the [class website](https://sites.wustl.edu/jeffheaton/t81-558/)."
   ]
  },
  {
   "cell_type": "markdown",
   "metadata": {},
   "source": [
    "# Module 9 Material\n",
    "\n",
    "Module 9: MultiModal and Text to Image\n",
    "\n",
    "* Part 9.1: Introduction to MultiModal and Text to Image [[Video]]() [[Notebook]](t81_559_class_09_1_image_genai.ipynb)\n",
    "* **Part 9.2: Generating Images with DALL·E Kaggle Notebooks** [[Video]]() [[Notebook]](t81_559_class_09_2_dalle.ipynb)\n",
    "* Part 8.3: DALL·E Existing Images [[Video]]() [[Notebook]](t81_559_class_09_3_dalle_existing.ipynb)\n",
    "* Part 8.4: MultiModal Models [[Video]]() [[Notebook]](t81_559_class_09_4_multimodal.ipynb)\n",
    "* Part 8.5: Illustrated Book [[Video]]() [[Notebook]](t81_559_class_09_5_illustrated_book.ipynb)"
   ]
  },
  {
   "attachments": {},
   "cell_type": "markdown",
   "metadata": {},
   "source": [
    "# Part 9.2: Generating Images with DALL·E Kaggle Notebooks\n",
    "\n",
    "Coming soon\n",
    "\n",
    "\n",
    "\n"
   ]
  },
  {
   "cell_type": "code",
   "execution_count": null,
   "metadata": {},
   "outputs": [],
   "source": []
  }
 ],
 "metadata": {
  "anaconda-cloud": {},
  "kernelspec": {
   "display_name": "Python 3 (ipykernel)",
   "language": "python",
   "name": "python3"
  },
  "language_info": {
   "codemirror_mode": {
    "name": "ipython",
    "version": 3
   },
   "file_extension": ".py",
   "mimetype": "text/x-python",
   "name": "python",
   "nbconvert_exporter": "python",
   "pygments_lexer": "ipython3",
   "version": "3.12.4"
  }
 },
 "nbformat": 4,
 "nbformat_minor": 4
}
